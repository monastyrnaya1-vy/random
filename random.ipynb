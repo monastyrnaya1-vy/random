{
 "cells": [
  {
   "cell_type": "code",
   "execution_count": 2,
   "metadata": {},
   "outputs": [],
   "source": [
    "import numpy as np"
   ]
  },
  {
   "cell_type": "markdown",
   "metadata": {},
   "source": [
    "Игрок платит 1 рубль, после чего выпадает случайное целое число, равномерно распределенное от 0 до 999. При некоторых значениях числа игрок получает выигрыш\n",
    "Сколько в среднем приобретает или теряет игрок за одну игру?\n",
    "\n",
    "777: 200p\n",
    "999: 100p\n",
    "555: 50p\n",
    "333: 15p\n",
    "111: 10p\n",
    "*77: 5p\n",
    "**7: 3p\n",
    "*00: 2p\n",
    "**0: 1p"
   ]
  },
  {
   "cell_type": "code",
   "execution_count": 5,
   "metadata": {},
   "outputs": [
    {
     "name": "stdout",
     "output_type": "stream",
     "text": [
      "-1.0\n"
     ]
    }
   ],
   "source": [
    "np.random.seed(42)\n",
    "success = 0\n",
    "trails = 1000\n",
    "money = 0\n",
    "p = success/trails\n",
    "\n",
    "for i in range(trails):\n",
    "    random_score = np.random.randint(0, 1000)\n",
    "    if random_score ==777:\n",
    "        money +=  200\n",
    "        success += 1\n",
    "        #p = success/trails\n",
    "        #print(p1)\n",
    "        #jek_pot = money * (success/trails)\n",
    "    elif random_score == 999:\n",
    "        money += 100\n",
    "        success += 1 \n",
    "        #p = success/trails\n",
    "        #print(p2)\n",
    "        #jek_pot = money * (success/trails)\n",
    "    elif random_score == 555:\n",
    "        money += 50\n",
    "        success += 1 \n",
    "        #p3 = success/trails\n",
    "        #print(p3)\n",
    "        #jek_pot = money * (success/trails)\n",
    "    elif random_score == 333:\n",
    "        money += 15\n",
    "        success += 1  \n",
    "        #p4 = success/trails\n",
    "        #print(p4)\n",
    "        #jek_pot = money * (success/trails)\n",
    "    elif random_score == 111:\n",
    "        money += 10\n",
    "        success += 1\n",
    "        #p5 = success/trails\n",
    "        #print(p5)\n",
    "        #jek_pot = money * (success/trails)\n",
    "    elif random_score % 100 == 77:\n",
    "        money +=5\n",
    "        success += 1\n",
    "        #p6 = success/trails\n",
    "        #print(p6)\n",
    "        #jek_pot = money * (success/trails)\n",
    "    elif random_score % 100 == 7:\n",
    "        money +=3\n",
    "        success += 1\n",
    "        #p7 = success/trails\n",
    "        #print(p7)\n",
    "        #jek_pot = money * (success/trails)  \n",
    "    elif random_score % 100 == 0:\n",
    "        money += 2\n",
    "        success += 1 \n",
    "        #p8 = success/trails\n",
    "        #print(p8)\n",
    "        #jek_pot = money * (success/trails)\n",
    "    elif random_score % 10 == 0:\n",
    "        money += 1\n",
    "        success += 1    \n",
    "        #p9 = success/trails\n",
    "        #print(p9)\n",
    "        #jek_pot = money * (success/trails)\n",
    "        x_ = (p*money + (1-p)*-1) \n",
    "    \n",
    "print(x_)            \n",
    "    "
   ]
  }
 ],
 "metadata": {
  "kernelspec": {
   "display_name": "Python 3",
   "language": "python",
   "name": "python3"
  },
  "language_info": {
   "codemirror_mode": {
    "name": "ipython",
    "version": 3
   },
   "file_extension": ".py",
   "mimetype": "text/x-python",
   "name": "python",
   "nbconvert_exporter": "python",
   "pygments_lexer": "ipython3",
   "version": "3.7.4"
  }
 },
 "nbformat": 4,
 "nbformat_minor": 4
}
